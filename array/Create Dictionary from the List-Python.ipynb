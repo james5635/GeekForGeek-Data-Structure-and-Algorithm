{
 "cells": [
  {
   "cell_type": "markdown",
   "metadata": {},
   "source": [
    "## Using dictionary comprehension"
   ]
  },
  {
   "cell_type": "code",
   "execution_count": 1,
   "metadata": {},
   "outputs": [
    {
     "name": "stdout",
     "output_type": "stream",
     "text": [
      "{'def_key_gfg': 'gfg', 'def_key_is': 'is', 'def_key_best': 'best'}\n"
     ]
    }
   ],
   "source": [
    "a = [\"gfg\", \"is\", \"best\"]\n",
    "k = \"def_key_\"\n",
    "res = {f\"{k}{ele}\": ele for ele in a}\n",
    "print(res)"
   ]
  },
  {
   "cell_type": "markdown",
   "metadata": {},
   "source": [
    "## Using map()"
   ]
  },
  {
   "cell_type": "code",
   "execution_count": 1,
   "metadata": {},
   "outputs": [
    {
     "name": "stdout",
     "output_type": "stream",
     "text": [
      "{'def_keygtg': 'gtg', 'def_keyis': 'is', 'def_keydesi': 'desi'}\n"
     ]
    }
   ],
   "source": [
    "a = [\"gtg\", \"is\", \"desi\"]\n",
    "k = \"def_key\"\n",
    "res = dict(zip(map(lambda x: k+ x,a), a))\n",
    "print(res)"
   ]
  },
  {
   "cell_type": "markdown",
   "metadata": {},
   "source": [
    "## Using dict.fromkeys()"
   ]
  },
  {
   "cell_type": "code",
   "execution_count": 2,
   "metadata": {},
   "outputs": [
    {
     "name": "stdout",
     "output_type": "stream",
     "text": [
      "{'dict_key_gfg': 'gfg', 'dict_key_is': 'is', 'dict_key_best': 'best'}\n"
     ]
    }
   ],
   "source": [
    "a = [\"gfg\", \"is\", \"best\"]\n",
    "k = \"dict_key_\"\n",
    "res = dict.fromkeys(map(lambda x:k+x,a))\n",
    "for ele in a:\n",
    "    res[k+ele] = ele\n",
    "print(res)"
   ]
  },
  {
   "cell_type": "markdown",
   "metadata": {},
   "source": [
    "## Using for loop"
   ]
  },
  {
   "cell_type": "code",
   "execution_count": 3,
   "metadata": {},
   "outputs": [
    {
     "name": "stdout",
     "output_type": "stream",
     "text": [
      "{'def_keygfg': 'gfg', 'def_keyis': 'is', 'def_keybest': 'best'}\n"
     ]
    }
   ],
   "source": [
    "a = [\"gfg\", \"is\", \"best\"]\n",
    "k = \"def_key\"\n",
    "res = {}\n",
    "for ele in a:\n",
    "    res[k + ele] = ele\n",
    "print(res)"
   ]
  }
 ],
 "metadata": {
  "kernelspec": {
   "display_name": "Python 3",
   "language": "python",
   "name": "python3"
  },
  "language_info": {
   "codemirror_mode": {
    "name": "ipython",
    "version": 3
   },
   "file_extension": ".py",
   "mimetype": "text/x-python",
   "name": "python",
   "nbconvert_exporter": "python",
   "pygments_lexer": "ipython3",
   "version": "3.12.9"
  }
 },
 "nbformat": 4,
 "nbformat_minor": 2
}
