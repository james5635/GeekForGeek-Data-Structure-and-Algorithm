{
 "cells": [
  {
   "cell_type": "markdown",
   "id": "eff846b3",
   "metadata": {},
   "source": [
    "## Using generator + shuffle()"
   ]
  },
  {
   "cell_type": "code",
   "execution_count": 5,
   "id": "d26a6a17",
   "metadata": {},
   "outputs": [
    {
     "name": "stdout",
     "output_type": "stream",
     "text": [
      "The original list is : [1, 2, 3, 4, 5, 6, 7, 8, 9]\n",
      "K sized N random lists : [[2, 3, 7], [3, 5, 7], [5, 1, 9], [6, 1, 7]]\n"
     ]
    }
   ],
   "source": [
    "from random import shuffle\n",
    "def random_list(sub,k):\n",
    "    while True:\n",
    "        shuffle(sub)\n",
    "        yield sub[:k]\n",
    "test_list = [1,2,3,4,5,6,7,8,9]\n",
    "K,N = 3,4\n",
    "print(\"The original list is :\", str(test_list))\n",
    "res = []\n",
    "for idx in range(0,N):\n",
    "    res.append(next(random_list(test_list,K)))\n",
    "print(\"K sized N random lists : \" + str(res))"
   ]
  },
  {
   "cell_type": "code",
   "execution_count": 7,
   "id": "c44058ae",
   "metadata": {},
   "outputs": [
    {
     "name": "stdout",
     "output_type": "stream",
     "text": [
      "[(1, 1, 1), (1, 1, 2), (1, 2, 1), (1, 2, 2), (2, 1, 1), (2, 1, 2), (2, 2, 1), (2, 2, 2)]\n"
     ]
    }
   ],
   "source": [
    "import itertools \n",
    "a = [1,2]\n",
    "print(list(itertools.product(a, repeat=3)))"
   ]
  },
  {
   "cell_type": "code",
   "execution_count": null,
   "id": "3f184908",
   "metadata": {},
   "outputs": [],
   "source": []
  },
  {
   "cell_type": "code",
   "execution_count": null,
   "metadata": {},
   "outputs": [],
   "source": []
  }
 ],
 "metadata": {
  "kernelspec": {
   "display_name": "Python 3",
   "language": "python",
   "name": "python3"
  },
  "language_info": {
   "codemirror_mode": {
    "name": "ipython",
    "version": 3
   },
   "file_extension": ".py",
   "mimetype": "text/x-python",
   "name": "python",
   "nbconvert_exporter": "python",
   "pygments_lexer": "ipython3",
   "version": "3.13.2"
  }
 },
 "nbformat": 4,
 "nbformat_minor": 5
}
