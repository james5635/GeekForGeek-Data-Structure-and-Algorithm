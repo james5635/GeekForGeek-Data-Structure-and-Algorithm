{
 "cells": [
  {
   "cell_type": "markdown",
   "metadata": {},
   "source": [
    "## How to Create List of Dictionary in Python Using For Loop"
   ]
  },
  {
   "cell_type": "markdown",
   "metadata": {},
   "source": [
    "## Using list comprehension"
   ]
  },
  {
   "cell_type": "code",
   "execution_count": 1,
   "metadata": {},
   "outputs": [
    {
     "name": "stdout",
     "output_type": "stream",
     "text": [
      "[{'key': 0, 'value': 0}, {'key': 1, 'value': 2}, {'key': 2, 'value': 4}]\n"
     ]
    }
   ],
   "source": [
    "a =  ['key', 'value']\n",
    "b = [dict(zip(a, [i, i*2])) for i in range(3)]\n",
    "print(b)"
   ]
  },
  {
   "cell_type": "markdown",
   "metadata": {},
   "source": [
    "## Using dictionary comprehension"
   ]
  },
  {
   "cell_type": "code",
   "execution_count": 3,
   "metadata": {},
   "outputs": [
    {
     "name": "stdout",
     "output_type": "stream",
     "text": [
      "[{'key': 0, 'value': 0}, {'key': 1, 'value': 2}, {'key': 2, 'value': 4}]\n"
     ]
    }
   ],
   "source": [
    "a = [\"key\", \"value\"]\n",
    "b = [{k: (i if k == \"key\" else i *2) for k in a } for i in range(3)]\n",
    "print(b)"
   ]
  },
  {
   "cell_type": "markdown",
   "metadata": {},
   "source": [
    "## Using append"
   ]
  },
  {
   "cell_type": "code",
   "execution_count": 5,
   "metadata": {},
   "outputs": [
    {
     "name": "stdout",
     "output_type": "stream",
     "text": [
      "[{'key': 0, 'value': 0}, {'key': 1, 'value': 2}, {'key': 2, 'value': 4}]\n"
     ]
    }
   ],
   "source": [
    "a = ['key', 'value']\n",
    "b: list[dict[str, int]] = []\n",
    "for i in range(3):\n",
    "    b.append(dict(zip(a, [i, i*2])))\n",
    "print(b)"
   ]
  }
 ],
 "metadata": {
  "kernelspec": {
   "display_name": "Python 3",
   "language": "python",
   "name": "python3"
  },
  "language_info": {
   "codemirror_mode": {
    "name": "ipython",
    "version": 3
   },
   "file_extension": ".py",
   "mimetype": "text/x-python",
   "name": "python",
   "nbconvert_exporter": "python",
   "pygments_lexer": "ipython3",
   "version": "3.12.9"
  }
 },
 "nbformat": 4,
 "nbformat_minor": 2
}
