{
 "cells": [
  {
   "cell_type": "markdown",
   "metadata": {},
   "source": [
    "## Using zip()"
   ]
  },
  {
   "cell_type": "code",
   "execution_count": 2,
   "metadata": {},
   "outputs": [
    {
     "name": "stdout",
     "output_type": "stream",
     "text": [
      "{8: {'Gfg': 4}, 3: {'is': 5}, 2: {'best': 9}}\n"
     ]
    }
   ],
   "source": [
    "a = {\"Gfg\": 4, \"is\": 5, \"best\": 9}\n",
    "b = [8,3,2]\n",
    "res = {key: {k:v} for key,(k,v) in zip(b,a.items())}\n",
    "print(res)"
   ]
  },
  {
   "cell_type": "markdown",
   "metadata": {},
   "source": [
    "## Using for loop\n"
   ]
  },
  {
   "cell_type": "code",
   "execution_count": 3,
   "metadata": {},
   "outputs": [
    {
     "name": "stdout",
     "output_type": "stream",
     "text": [
      "{8: {8: 4}, 3: {3: 5}, 2: {2: 9}}\n"
     ]
    }
   ],
   "source": [
    "a = {\"Gfg\": 4, \"is\": 5, \"best\": 9}\n",
    "b = [8,3,2]\n",
    "res = {}\n",
    "for key, (k,v) in zip(b,a.items()):\n",
    "    res[key] = {key:v}\n",
    "print(res)"
   ]
  },
  {
   "cell_type": "markdown",
   "metadata": {},
   "source": [
    "## Using dict()"
   ]
  },
  {
   "cell_type": "code",
   "execution_count": 5,
   "metadata": {},
   "outputs": [
    {
     "name": "stdout",
     "output_type": "stream",
     "text": [
      "{8: {'Gfg': 4}, 3: {'is': 5}, 2: {'best': 9}}\n"
     ]
    }
   ],
   "source": [
    "a: dict[str, int] = {\"Gfg\": 4, \"is\": 5, \"best\": 9}\n",
    "b: list[int] = [8, 3, 2]\n",
    "\n",
    "res: dict[int, dict[str, int]] = dict(\n",
    "    map(lambda key_val: (key_val[0], {key_val[1][0]: key_val[1][1]}), zip(b, a.items()))\n",
    ")\n",
    "print(res)"
   ]
  }
 ],
 "metadata": {
  "kernelspec": {
   "display_name": "Python 3",
   "language": "python",
   "name": "python3"
  },
  "language_info": {
   "codemirror_mode": {
    "name": "ipython",
    "version": 3
   },
   "file_extension": ".py",
   "mimetype": "text/x-python",
   "name": "python",
   "nbconvert_exporter": "python",
   "pygments_lexer": "ipython3",
   "version": "3.12.9"
  }
 },
 "nbformat": 4,
 "nbformat_minor": 2
}
