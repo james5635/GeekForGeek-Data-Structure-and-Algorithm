{
 "cells": [
  {
   "cell_type": "markdown",
   "metadata": {},
   "source": [
    "## Using zip()"
   ]
  },
  {
   "cell_type": "code",
   "execution_count": null,
   "metadata": {},
   "outputs": [
    {
     "name": "stdout",
     "output_type": "stream",
     "text": [
      "[(1, 'apple'), (2, 'orange'), (3, 'cherry')]\n"
     ]
    }
   ],
   "source": [
    "a = [1, 2, 3]\n",
    "b = ['apple', 'orange', 'cherry']\n",
    "res: list[tuple[int, str]] = list(zip(a, b))\n",
    "print(res)"
   ]
  },
  {
   "cell_type": "markdown",
   "metadata": {},
   "source": [
    "## Using map()"
   ]
  },
  {
   "cell_type": "code",
   "execution_count": null,
   "metadata": {},
   "outputs": [
    {
     "name": "stdout",
     "output_type": "stream",
     "text": [
      "[(1, 'apple'), (2, 'orange'), (3, 'cherry')]\n"
     ]
    }
   ],
   "source": [
    "# from collections.abc import Iterator\n",
    "a: list[list[int | str]] = [[1, \"apple\"], [2, \"orange\"], [3, \"cherry\"]]\n",
    "# res: Iterator[tuple[int | str, ...]] = map(tuple, a)\n",
    "res: list[tuple[int | str, ...]] = list(map(tuple, a))\n",
    "\n",
    "print(res)"
   ]
  },
  {
   "cell_type": "markdown",
   "metadata": {},
   "source": [
    "## Using list comprehension"
   ]
  },
  {
   "cell_type": "code",
   "execution_count": null,
   "metadata": {},
   "outputs": [],
   "source": [
    "a: list[int] = [1,2,3]\n",
    "b: list[str] = ['apple', 'orange', 'cherry']\n",
    "res: list[tuple[int, str]] = [(x,y) for x,y in zip(a,b)]\n",
    "print(res)"
   ]
  },
  {
   "cell_type": "markdown",
   "metadata": {},
   "source": [
    "## Using for loop"
   ]
  },
  {
   "cell_type": "code",
   "execution_count": null,
   "metadata": {},
   "outputs": [
    {
     "name": "stdout",
     "output_type": "stream",
     "text": [
      "[(1, 'apple'), (2, 'orange'), (3, 'cherry')]\n"
     ]
    }
   ],
   "source": [
    "a: list[int] = [1,2,3]\n",
    "b: list[str] = ['apple', 'orange', 'cherry']\n",
    "res: list[tuple[int,str]] = []\n",
    "for i in range(len(a)):\n",
    "    res.append((a[i], b[i]))\n",
    "print(res)"
   ]
  }
 ],
 "metadata": {
  "kernelspec": {
   "display_name": "Python 3",
   "language": "python",
   "name": "python3"
  },
  "language_info": {
   "codemirror_mode": {
    "name": "ipython",
    "version": 3
   },
   "file_extension": ".py",
   "mimetype": "text/x-python",
   "name": "python",
   "nbconvert_exporter": "python",
   "pygments_lexer": "ipython3",
   "version": "3.12.9"
  }
 },
 "nbformat": 4,
 "nbformat_minor": 2
}
