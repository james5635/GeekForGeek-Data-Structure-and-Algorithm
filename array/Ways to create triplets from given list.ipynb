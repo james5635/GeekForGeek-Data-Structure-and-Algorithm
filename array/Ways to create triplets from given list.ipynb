{
 "cells": [
  {
   "cell_type": "markdown",
   "metadata": {},
   "source": [
    "## Using List Comprehension"
   ]
  },
  {
   "cell_type": "code",
   "execution_count": null,
   "metadata": {},
   "outputs": [
    {
     "name": "stdout",
     "output_type": "stream",
     "text": [
      "[['I', 'am', 'Paras'], ['am', 'Paras', 'Jain'], ['Paras', 'Jain', 'I'], ['Jain', 'I', 'Study'], ['I', 'Study', 'DS'], ['Study', 'DS', 'Algo']]\n"
     ]
    }
   ],
   "source": [
    "li = ['I', 'am', 'Paras', 'Jain', 'I', 'Study', 'DS', 'Algo']\n",
    "res = [li[i:i+3] for i in range(len(li) -2)]\n",
    "print(res)"
   ]
  },
  {
   "cell_type": "markdown",
   "metadata": {},
   "source": [
    "## Using tee()"
   ]
  },
  {
   "cell_type": "code",
   "execution_count": 15,
   "metadata": {},
   "outputs": [
    {
     "name": "stdout",
     "output_type": "stream",
     "text": [
      "[('I', 'am', 'Paras'), ('am', 'Paras', 'Jain'), ('Paras', 'Jain', 'I'), ('Jain', 'I', 'Study'), ('I', 'Study', 'DS'), ('Study', 'DS', 'Algo')]\n"
     ]
    }
   ],
   "source": [
    "import itertools\n",
    "li = ['I', 'am', 'Paras', 'Jain', 'I', 'Study', 'DS', 'Algo']\n",
    "it1,it2,it3 = itertools.tee(li,3)\n",
    "it2 = itertools.islice(it2, 1, None)\n",
    "it3 = itertools.islice(it3, 2,None)\n",
    "res = list(zip(it1,it2,it3))\n",
    "print(res)"
   ]
  },
  {
   "cell_type": "markdown",
   "metadata": {},
   "source": [
    "## Using loop"
   ]
  },
  {
   "cell_type": "code",
   "execution_count": 16,
   "metadata": {},
   "outputs": [
    {
     "name": "stdout",
     "output_type": "stream",
     "text": [
      "[['I', 'am', 'Paras'], ['am', 'Paras', 'Jain'], ['Paras', 'Jain', 'I'], ['Jain', 'I', 'Study'], ['I', 'Study', 'DS'], ['Study', 'DS', 'Algo']]\n"
     ]
    }
   ],
   "source": [
    "li = ['I', 'am', 'Paras', 'Jain', 'I', 'Study', 'DS', 'Algo']\n",
    "res = []\n",
    "for i in range(len(li) -2 ):\n",
    "    res.append(li[i:i+ 3])\n",
    "print(res)"
   ]
  },
  {
   "cell_type": "markdown",
   "metadata": {},
   "source": [
    "## Using deque"
   ]
  },
  {
   "cell_type": "code",
   "execution_count": 17,
   "metadata": {},
   "outputs": [
    {
     "name": "stdout",
     "output_type": "stream",
     "text": [
      "[['I', 'am', 'Paras'], ['am', 'Paras', 'Jain'], ['Paras', 'Jain', 'I'], ['Jain', 'I', 'Study'], ['I', 'Study', 'DS'], ['Study', 'DS', 'Algo']]\n"
     ]
    }
   ],
   "source": [
    "from collections import deque\n",
    "\n",
    "li = ['I', 'am', 'Paras', 'Jain', 'I', 'Study', 'DS', 'Algo']\n",
    "window = deque(maxlen=3)\n",
    "res = []\n",
    "for word in li:\n",
    "    window.append(word)\n",
    "    if len(window) ==  3:\n",
    "        res.append(list(window))\n",
    "print(res)"
   ]
  }
 ],
 "metadata": {
  "kernelspec": {
   "display_name": "Python 3",
   "language": "python",
   "name": "python3"
  },
  "language_info": {
   "codemirror_mode": {
    "name": "ipython",
    "version": 3
   },
   "file_extension": ".py",
   "mimetype": "text/x-python",
   "name": "python",
   "nbconvert_exporter": "python",
   "pygments_lexer": "ipython3",
   "version": "3.13.2"
  }
 },
 "nbformat": 4,
 "nbformat_minor": 2
}
