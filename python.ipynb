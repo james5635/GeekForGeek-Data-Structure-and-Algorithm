{
 "cells": [
  {
   "cell_type": "markdown",
   "metadata": {},
   "source": [
    "## Type of function"
   ]
  },
  {
   "cell_type": "code",
   "execution_count": 1,
   "metadata": {},
   "outputs": [
    {
     "name": "stdout",
     "output_type": "stream",
     "text": [
      "        Parameter Type       Example Syntax                 Calling Style\n",
      "0      Positional-Only   def func(a, b, /):                    func(1, 2)\n",
      "1              Regular      def func(a, b):  func(1, 2) or func(a=1, b=2)\n",
      "2         Keyword-Only   def func(*, a, b):                func(a=1, b=2)\n",
      "3  Variable Positional     def func(*args):                 func(1, 2, 3)\n",
      "4     Variable Keyword  def func(**kwargs):                func(a=1, b=2)\n",
      "5       Default Values      def func(a=10):             func() or func(5)\n"
     ]
    }
   ],
   "source": [
    "import pandas as pd\n",
    "\n",
    "# Define the data\n",
    "data = {\n",
    "    \"Parameter Type\": [\n",
    "        \"Positional-Only\",\n",
    "        \"Regular\",\n",
    "        \"Keyword-Only\",\n",
    "        \"Variable Positional\",\n",
    "        \"Variable Keyword\",\n",
    "        \"Default Values\",\n",
    "    ],\n",
    "    \"Example Syntax\": [\n",
    "        \"def func(a, b, /):\",\n",
    "        \"def func(a, b):\",\n",
    "        \"def func(*, a, b):\",\n",
    "        \"def func(*args):\",\n",
    "        \"def func(**kwargs):\",\n",
    "        \"def func(a=10):\",\n",
    "    ],\n",
    "    \"Calling Style\": [\n",
    "        \"func(1, 2)\",\n",
    "        \"func(1, 2) or func(a=1, b=2)\",\n",
    "        \"func(a=1, b=2)\",\n",
    "        \"func(1, 2, 3)\",\n",
    "        \"func(a=1, b=2)\",\n",
    "        \"func() or func(5)\",\n",
    "    ],\n",
    "}\n",
    "\n",
    "# Create a pandas DataFrame\n",
    "df = pd.DataFrame(data)\n",
    "\n",
    "# Display the DataFrame\n",
    "print(df)"
   ]
  }
 ],
 "metadata": {
  "kernelspec": {
   "display_name": "Python 3",
   "language": "python",
   "name": "python3"
  },
  "language_info": {
   "codemirror_mode": {
    "name": "ipython",
    "version": 3
   },
   "file_extension": ".py",
   "mimetype": "text/x-python",
   "name": "python",
   "nbconvert_exporter": "python",
   "pygments_lexer": "ipython3",
   "version": "3.13.2"
  }
 },
 "nbformat": 4,
 "nbformat_minor": 2
}
